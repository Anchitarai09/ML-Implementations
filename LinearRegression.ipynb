{
 "cells": [
  {
   "cell_type": "code",
   "execution_count": 59,
   "id": "61edacef-89fb-4a30-8551-134f9d1c01c0",
   "metadata": {},
   "outputs": [],
   "source": [
    "import pandas as pd\n",
    "import numpy as np\n",
    "import matplotlib.pyplot as plt\n",
    "import seaborn as sns\n",
    "import warnings\n",
    "warnings.filterwarnings(\"ignore\")"
   ]
  },
  {
   "cell_type": "code",
   "execution_count": 60,
   "id": "ec167990-751d-4026-b3e5-17b8037dfe5a",
   "metadata": {},
   "outputs": [],
   "source": [
    "df = pd.read_csv('Cars_24.csv')"
   ]
  },
  {
   "cell_type": "code",
   "execution_count": 61,
   "id": "78d43b00-5dff-4f18-96d3-fda9914604b4",
   "metadata": {},
   "outputs": [
    {
     "data": {
      "text/html": [
       "<div>\n",
       "<style scoped>\n",
       "    .dataframe tbody tr th:only-of-type {\n",
       "        vertical-align: middle;\n",
       "    }\n",
       "\n",
       "    .dataframe tbody tr th {\n",
       "        vertical-align: top;\n",
       "    }\n",
       "\n",
       "    .dataframe thead th {\n",
       "        text-align: right;\n",
       "    }\n",
       "</style>\n",
       "<table border=\"1\" class=\"dataframe\">\n",
       "  <thead>\n",
       "    <tr style=\"text-align: right;\">\n",
       "      <th></th>\n",
       "      <th>selling_price</th>\n",
       "      <th>year</th>\n",
       "      <th>km_driven</th>\n",
       "      <th>mileage</th>\n",
       "      <th>engine</th>\n",
       "      <th>max_power</th>\n",
       "      <th>age</th>\n",
       "      <th>make</th>\n",
       "      <th>model</th>\n",
       "      <th>Individual</th>\n",
       "      <th>Trustmark Dealer</th>\n",
       "      <th>Diesel</th>\n",
       "      <th>Electric</th>\n",
       "      <th>LPG</th>\n",
       "      <th>Petrol</th>\n",
       "      <th>Manual</th>\n",
       "      <th>5</th>\n",
       "      <th>&gt;5</th>\n",
       "    </tr>\n",
       "  </thead>\n",
       "  <tbody>\n",
       "    <tr>\n",
       "      <th>0</th>\n",
       "      <td>1.20</td>\n",
       "      <td>2012.0</td>\n",
       "      <td>120000</td>\n",
       "      <td>19.70</td>\n",
       "      <td>796.0</td>\n",
       "      <td>46.30</td>\n",
       "      <td>11.0</td>\n",
       "      <td>MARUTI</td>\n",
       "      <td>ALTO STD</td>\n",
       "      <td>1</td>\n",
       "      <td>0</td>\n",
       "      <td>0</td>\n",
       "      <td>0</td>\n",
       "      <td>0</td>\n",
       "      <td>1</td>\n",
       "      <td>1</td>\n",
       "      <td>1</td>\n",
       "      <td>0</td>\n",
       "    </tr>\n",
       "    <tr>\n",
       "      <th>1</th>\n",
       "      <td>5.50</td>\n",
       "      <td>2016.0</td>\n",
       "      <td>20000</td>\n",
       "      <td>18.90</td>\n",
       "      <td>1197.0</td>\n",
       "      <td>82.00</td>\n",
       "      <td>7.0</td>\n",
       "      <td>HYUNDAI</td>\n",
       "      <td>GRAND I10 ASTA</td>\n",
       "      <td>1</td>\n",
       "      <td>0</td>\n",
       "      <td>0</td>\n",
       "      <td>0</td>\n",
       "      <td>0</td>\n",
       "      <td>1</td>\n",
       "      <td>1</td>\n",
       "      <td>1</td>\n",
       "      <td>0</td>\n",
       "    </tr>\n",
       "    <tr>\n",
       "      <th>2</th>\n",
       "      <td>2.15</td>\n",
       "      <td>2010.0</td>\n",
       "      <td>60000</td>\n",
       "      <td>17.00</td>\n",
       "      <td>1197.0</td>\n",
       "      <td>80.00</td>\n",
       "      <td>13.0</td>\n",
       "      <td>HYUNDAI</td>\n",
       "      <td>I20 ASTA</td>\n",
       "      <td>1</td>\n",
       "      <td>0</td>\n",
       "      <td>0</td>\n",
       "      <td>0</td>\n",
       "      <td>0</td>\n",
       "      <td>1</td>\n",
       "      <td>1</td>\n",
       "      <td>1</td>\n",
       "      <td>0</td>\n",
       "    </tr>\n",
       "    <tr>\n",
       "      <th>3</th>\n",
       "      <td>2.26</td>\n",
       "      <td>2012.0</td>\n",
       "      <td>37000</td>\n",
       "      <td>20.92</td>\n",
       "      <td>998.0</td>\n",
       "      <td>67.10</td>\n",
       "      <td>11.0</td>\n",
       "      <td>MARUTI</td>\n",
       "      <td>ALTO K10 2010-2014 VXI</td>\n",
       "      <td>1</td>\n",
       "      <td>0</td>\n",
       "      <td>0</td>\n",
       "      <td>0</td>\n",
       "      <td>0</td>\n",
       "      <td>1</td>\n",
       "      <td>1</td>\n",
       "      <td>1</td>\n",
       "      <td>0</td>\n",
       "    </tr>\n",
       "    <tr>\n",
       "      <th>4</th>\n",
       "      <td>5.70</td>\n",
       "      <td>2015.0</td>\n",
       "      <td>30000</td>\n",
       "      <td>22.77</td>\n",
       "      <td>1498.0</td>\n",
       "      <td>98.59</td>\n",
       "      <td>8.0</td>\n",
       "      <td>FORD</td>\n",
       "      <td>ECOSPORT 2015-2021 1.5 TDCI TITANIUM BSIV</td>\n",
       "      <td>0</td>\n",
       "      <td>0</td>\n",
       "      <td>1</td>\n",
       "      <td>0</td>\n",
       "      <td>0</td>\n",
       "      <td>0</td>\n",
       "      <td>1</td>\n",
       "      <td>1</td>\n",
       "      <td>0</td>\n",
       "    </tr>\n",
       "  </tbody>\n",
       "</table>\n",
       "</div>"
      ],
      "text/plain": [
       "   selling_price    year  km_driven  mileage  engine  max_power   age  \\\n",
       "0           1.20  2012.0     120000    19.70   796.0      46.30  11.0   \n",
       "1           5.50  2016.0      20000    18.90  1197.0      82.00   7.0   \n",
       "2           2.15  2010.0      60000    17.00  1197.0      80.00  13.0   \n",
       "3           2.26  2012.0      37000    20.92   998.0      67.10  11.0   \n",
       "4           5.70  2015.0      30000    22.77  1498.0      98.59   8.0   \n",
       "\n",
       "      make                                      model  Individual  \\\n",
       "0   MARUTI                                   ALTO STD           1   \n",
       "1  HYUNDAI                             GRAND I10 ASTA           1   \n",
       "2  HYUNDAI                                   I20 ASTA           1   \n",
       "3   MARUTI                     ALTO K10 2010-2014 VXI           1   \n",
       "4     FORD  ECOSPORT 2015-2021 1.5 TDCI TITANIUM BSIV           0   \n",
       "\n",
       "   Trustmark Dealer  Diesel  Electric  LPG  Petrol  Manual  5  >5  \n",
       "0                 0       0         0    0       1       1  1   0  \n",
       "1                 0       0         0    0       1       1  1   0  \n",
       "2                 0       0         0    0       1       1  1   0  \n",
       "3                 0       0         0    0       1       1  1   0  \n",
       "4                 0       1         0    0       0       1  1   0  "
      ]
     },
     "execution_count": 61,
     "metadata": {},
     "output_type": "execute_result"
    }
   ],
   "source": [
    "df.head()"
   ]
  },
  {
   "cell_type": "code",
   "execution_count": 62,
   "id": "7587d8c0-3e47-482f-9720-30f3302f493f",
   "metadata": {},
   "outputs": [
    {
     "name": "stdout",
     "output_type": "stream",
     "text": [
      "<class 'pandas.core.frame.DataFrame'>\n",
      "RangeIndex: 19820 entries, 0 to 19819\n",
      "Data columns (total 18 columns):\n",
      " #   Column            Non-Null Count  Dtype  \n",
      "---  ------            --------------  -----  \n",
      " 0   selling_price     19820 non-null  float64\n",
      " 1   year              19820 non-null  float64\n",
      " 2   km_driven         19820 non-null  int64  \n",
      " 3   mileage           19820 non-null  float64\n",
      " 4   engine            19820 non-null  float64\n",
      " 5   max_power         19820 non-null  float64\n",
      " 6   age               19820 non-null  float64\n",
      " 7   make              19820 non-null  object \n",
      " 8   model             19820 non-null  object \n",
      " 9   Individual        19820 non-null  int64  \n",
      " 10  Trustmark Dealer  19820 non-null  int64  \n",
      " 11  Diesel            19820 non-null  int64  \n",
      " 12  Electric          19820 non-null  int64  \n",
      " 13  LPG               19820 non-null  int64  \n",
      " 14  Petrol            19820 non-null  int64  \n",
      " 15  Manual            19820 non-null  int64  \n",
      " 16  5                 19820 non-null  int64  \n",
      " 17  >5                19820 non-null  int64  \n",
      "dtypes: float64(6), int64(10), object(2)\n",
      "memory usage: 2.7+ MB\n"
     ]
    }
   ],
   "source": [
    "df.info()"
   ]
  },
  {
   "cell_type": "code",
   "execution_count": 63,
   "id": "786dd27f-c991-4d9a-8603-497dd544fb9d",
   "metadata": {},
   "outputs": [
    {
     "data": {
      "text/plain": [
       "selling_price       0\n",
       "year                0\n",
       "km_driven           0\n",
       "mileage             0\n",
       "engine              0\n",
       "max_power           0\n",
       "age                 0\n",
       "make                0\n",
       "model               0\n",
       "Individual          0\n",
       "Trustmark Dealer    0\n",
       "Diesel              0\n",
       "Electric            0\n",
       "LPG                 0\n",
       "Petrol              0\n",
       "Manual              0\n",
       "5                   0\n",
       ">5                  0\n",
       "dtype: int64"
      ]
     },
     "execution_count": 63,
     "metadata": {},
     "output_type": "execute_result"
    }
   ],
   "source": [
    "df.isnull().sum()"
   ]
  },
  {
   "cell_type": "markdown",
   "id": "6d4b6533-87b6-41f0-995a-425f1bedbac1",
   "metadata": {},
   "source": [
    "Visualizing Categorical Attributes"
   ]
  },
  {
   "cell_type": "code",
   "execution_count": 64,
   "id": "199dd976-47c7-4007-ace2-3af058722103",
   "metadata": {},
   "outputs": [
    {
     "data": {
      "text/plain": [
       "0     MARUTI\n",
       "1    HYUNDAI\n",
       "2    HYUNDAI\n",
       "3     MARUTI\n",
       "4       FORD\n",
       "Name: make, dtype: object"
      ]
     },
     "execution_count": 64,
     "metadata": {},
     "output_type": "execute_result"
    }
   ],
   "source": [
    "df['make'].head()"
   ]
  },
  {
   "cell_type": "code",
   "execution_count": 65,
   "id": "d7c4bf69-6613-4a12-a2c8-ac87a8a04350",
   "metadata": {},
   "outputs": [
    {
     "data": {
      "text/plain": [
       "0                                     ALTO STD\n",
       "1                               GRAND I10 ASTA\n",
       "2                                     I20 ASTA\n",
       "3                       ALTO K10 2010-2014 VXI\n",
       "4    ECOSPORT 2015-2021 1.5 TDCI TITANIUM BSIV\n",
       "Name: model, dtype: object"
      ]
     },
     "execution_count": 65,
     "metadata": {},
     "output_type": "execute_result"
    }
   ],
   "source": [
    "df['model'].head()"
   ]
  },
  {
   "cell_type": "code",
   "execution_count": 66,
   "id": "86159b67-33fc-40b8-b811-6965c7578548",
   "metadata": {},
   "outputs": [
    {
     "data": {
      "text/plain": [
       "41"
      ]
     },
     "execution_count": 66,
     "metadata": {},
     "output_type": "execute_result"
    }
   ],
   "source": [
    "df['make'].nunique() #nunique() will return the number of unique values in the column 'make' of the DataFrame df."
   ]
  },
  {
   "cell_type": "code",
   "execution_count": 67,
   "id": "8185a0fc-d0d9-4ffe-b728-60c95d3af885",
   "metadata": {},
   "outputs": [
    {
     "data": {
      "text/plain": [
       "3233"
      ]
     },
     "execution_count": 67,
     "metadata": {},
     "output_type": "execute_result"
    }
   ],
   "source": [
    "df['model'].nunique()"
   ]
  },
  {
   "cell_type": "markdown",
   "id": "0769efc8-179f-49c5-a768-fb6fe23f4a27",
   "metadata": {},
   "source": [
    "Converting Categorical column into Numerical one\n",
    "Applying Target Encoding"
   ]
  },
  {
   "cell_type": "code",
   "execution_count": 68,
   "id": "0f4eea96-bc94-4532-bbe4-c7238685bace",
   "metadata": {},
   "outputs": [],
   "source": [
    "from category_encoders import TargetEncoder"
   ]
  },
  {
   "cell_type": "code",
   "execution_count": 69,
   "id": "bc7073b3-91e0-40de-bab2-5ce60d11ef22",
   "metadata": {},
   "outputs": [],
   "source": [
    "encoder_1 = TargetEncoder(cols=['make'])\n",
    "\n",
    "df['make'] = encoder_1.fit_transform(df['make'], df['selling_price'])"
   ]
  },
  {
   "cell_type": "code",
   "execution_count": 70,
   "id": "9cd8a767-0d3e-4449-b4b8-409b359a07fb",
   "metadata": {},
   "outputs": [],
   "source": [
    "encoder_2 = TargetEncoder(cols=['model'])\n",
    "\n",
    "df['model'] = encoder_2.fit_transform(df['model'], df['selling_price'])"
   ]
  },
  {
   "cell_type": "code",
   "execution_count": 71,
   "id": "3e2f25de-d144-4bac-967f-ed877d8cd080",
   "metadata": {},
   "outputs": [
    {
     "data": {
      "text/html": [
       "<div>\n",
       "<style scoped>\n",
       "    .dataframe tbody tr th:only-of-type {\n",
       "        vertical-align: middle;\n",
       "    }\n",
       "\n",
       "    .dataframe tbody tr th {\n",
       "        vertical-align: top;\n",
       "    }\n",
       "\n",
       "    .dataframe thead th {\n",
       "        text-align: right;\n",
       "    }\n",
       "</style>\n",
       "<table border=\"1\" class=\"dataframe\">\n",
       "  <thead>\n",
       "    <tr style=\"text-align: right;\">\n",
       "      <th></th>\n",
       "      <th>selling_price</th>\n",
       "      <th>year</th>\n",
       "      <th>km_driven</th>\n",
       "      <th>mileage</th>\n",
       "      <th>engine</th>\n",
       "      <th>max_power</th>\n",
       "      <th>age</th>\n",
       "      <th>make</th>\n",
       "      <th>model</th>\n",
       "      <th>Individual</th>\n",
       "      <th>Trustmark Dealer</th>\n",
       "      <th>Diesel</th>\n",
       "      <th>Electric</th>\n",
       "      <th>LPG</th>\n",
       "      <th>Petrol</th>\n",
       "      <th>Manual</th>\n",
       "      <th>5</th>\n",
       "      <th>&gt;5</th>\n",
       "    </tr>\n",
       "  </thead>\n",
       "  <tbody>\n",
       "    <tr>\n",
       "      <th>0</th>\n",
       "      <td>1.20</td>\n",
       "      <td>2012.0</td>\n",
       "      <td>120000</td>\n",
       "      <td>19.70</td>\n",
       "      <td>796.0</td>\n",
       "      <td>46.30</td>\n",
       "      <td>11.0</td>\n",
       "      <td>4.684721</td>\n",
       "      <td>5.235537</td>\n",
       "      <td>1</td>\n",
       "      <td>0</td>\n",
       "      <td>0</td>\n",
       "      <td>0</td>\n",
       "      <td>0</td>\n",
       "      <td>1</td>\n",
       "      <td>1</td>\n",
       "      <td>1</td>\n",
       "      <td>0</td>\n",
       "    </tr>\n",
       "    <tr>\n",
       "      <th>1</th>\n",
       "      <td>5.50</td>\n",
       "      <td>2016.0</td>\n",
       "      <td>20000</td>\n",
       "      <td>18.90</td>\n",
       "      <td>1197.0</td>\n",
       "      <td>82.00</td>\n",
       "      <td>7.0</td>\n",
       "      <td>5.458819</td>\n",
       "      <td>5.527772</td>\n",
       "      <td>1</td>\n",
       "      <td>0</td>\n",
       "      <td>0</td>\n",
       "      <td>0</td>\n",
       "      <td>0</td>\n",
       "      <td>1</td>\n",
       "      <td>1</td>\n",
       "      <td>1</td>\n",
       "      <td>0</td>\n",
       "    </tr>\n",
       "    <tr>\n",
       "      <th>2</th>\n",
       "      <td>2.15</td>\n",
       "      <td>2010.0</td>\n",
       "      <td>60000</td>\n",
       "      <td>17.00</td>\n",
       "      <td>1197.0</td>\n",
       "      <td>80.00</td>\n",
       "      <td>13.0</td>\n",
       "      <td>5.458819</td>\n",
       "      <td>5.380584</td>\n",
       "      <td>1</td>\n",
       "      <td>0</td>\n",
       "      <td>0</td>\n",
       "      <td>0</td>\n",
       "      <td>0</td>\n",
       "      <td>1</td>\n",
       "      <td>1</td>\n",
       "      <td>1</td>\n",
       "      <td>0</td>\n",
       "    </tr>\n",
       "    <tr>\n",
       "      <th>3</th>\n",
       "      <td>2.26</td>\n",
       "      <td>2012.0</td>\n",
       "      <td>37000</td>\n",
       "      <td>20.92</td>\n",
       "      <td>998.0</td>\n",
       "      <td>67.10</td>\n",
       "      <td>11.0</td>\n",
       "      <td>4.684721</td>\n",
       "      <td>2.268993</td>\n",
       "      <td>1</td>\n",
       "      <td>0</td>\n",
       "      <td>0</td>\n",
       "      <td>0</td>\n",
       "      <td>0</td>\n",
       "      <td>1</td>\n",
       "      <td>1</td>\n",
       "      <td>1</td>\n",
       "      <td>0</td>\n",
       "    </tr>\n",
       "    <tr>\n",
       "      <th>4</th>\n",
       "      <td>5.70</td>\n",
       "      <td>2015.0</td>\n",
       "      <td>30000</td>\n",
       "      <td>22.77</td>\n",
       "      <td>1498.0</td>\n",
       "      <td>98.59</td>\n",
       "      <td>8.0</td>\n",
       "      <td>5.858258</td>\n",
       "      <td>6.736442</td>\n",
       "      <td>0</td>\n",
       "      <td>0</td>\n",
       "      <td>1</td>\n",
       "      <td>0</td>\n",
       "      <td>0</td>\n",
       "      <td>0</td>\n",
       "      <td>1</td>\n",
       "      <td>1</td>\n",
       "      <td>0</td>\n",
       "    </tr>\n",
       "  </tbody>\n",
       "</table>\n",
       "</div>"
      ],
      "text/plain": [
       "   selling_price    year  km_driven  mileage  engine  max_power   age  \\\n",
       "0           1.20  2012.0     120000    19.70   796.0      46.30  11.0   \n",
       "1           5.50  2016.0      20000    18.90  1197.0      82.00   7.0   \n",
       "2           2.15  2010.0      60000    17.00  1197.0      80.00  13.0   \n",
       "3           2.26  2012.0      37000    20.92   998.0      67.10  11.0   \n",
       "4           5.70  2015.0      30000    22.77  1498.0      98.59   8.0   \n",
       "\n",
       "       make     model  Individual  Trustmark Dealer  Diesel  Electric  LPG  \\\n",
       "0  4.684721  5.235537           1                 0       0         0    0   \n",
       "1  5.458819  5.527772           1                 0       0         0    0   \n",
       "2  5.458819  5.380584           1                 0       0         0    0   \n",
       "3  4.684721  2.268993           1                 0       0         0    0   \n",
       "4  5.858258  6.736442           0                 0       1         0    0   \n",
       "\n",
       "   Petrol  Manual  5  >5  \n",
       "0       1       1  1   0  \n",
       "1       1       1  1   0  \n",
       "2       1       1  1   0  \n",
       "3       1       1  1   0  \n",
       "4       0       1  1   0  "
      ]
     },
     "execution_count": 71,
     "metadata": {},
     "output_type": "execute_result"
    }
   ],
   "source": [
    "df.head()"
   ]
  },
  {
   "cell_type": "markdown",
   "id": "24f47c19-01e0-46a9-85eb-affd4b2263da",
   "metadata": {},
   "source": [
    "Dividing the dataset into input and output"
   ]
  },
  {
   "cell_type": "code",
   "execution_count": 72,
   "id": "58140ba3-97cf-4b23-954e-2570308c7974",
   "metadata": {},
   "outputs": [],
   "source": [
    "x = df.drop('selling_price', axis=1)\n",
    "y = df['selling_price']"
   ]
  },
  {
   "cell_type": "code",
   "execution_count": 73,
   "id": "dad39784-c77d-4d4d-bc80-a925cc5863e6",
   "metadata": {},
   "outputs": [
    {
     "data": {
      "text/html": [
       "<div>\n",
       "<style scoped>\n",
       "    .dataframe tbody tr th:only-of-type {\n",
       "        vertical-align: middle;\n",
       "    }\n",
       "\n",
       "    .dataframe tbody tr th {\n",
       "        vertical-align: top;\n",
       "    }\n",
       "\n",
       "    .dataframe thead th {\n",
       "        text-align: right;\n",
       "    }\n",
       "</style>\n",
       "<table border=\"1\" class=\"dataframe\">\n",
       "  <thead>\n",
       "    <tr style=\"text-align: right;\">\n",
       "      <th></th>\n",
       "      <th>year</th>\n",
       "      <th>km_driven</th>\n",
       "      <th>mileage</th>\n",
       "      <th>engine</th>\n",
       "      <th>max_power</th>\n",
       "      <th>age</th>\n",
       "      <th>make</th>\n",
       "      <th>model</th>\n",
       "      <th>Individual</th>\n",
       "      <th>Trustmark Dealer</th>\n",
       "      <th>Diesel</th>\n",
       "      <th>Electric</th>\n",
       "      <th>LPG</th>\n",
       "      <th>Petrol</th>\n",
       "      <th>Manual</th>\n",
       "      <th>5</th>\n",
       "      <th>&gt;5</th>\n",
       "    </tr>\n",
       "  </thead>\n",
       "  <tbody>\n",
       "    <tr>\n",
       "      <th>0</th>\n",
       "      <td>2012.0</td>\n",
       "      <td>120000</td>\n",
       "      <td>19.70</td>\n",
       "      <td>796.0</td>\n",
       "      <td>46.30</td>\n",
       "      <td>11.0</td>\n",
       "      <td>4.684721</td>\n",
       "      <td>5.235537</td>\n",
       "      <td>1</td>\n",
       "      <td>0</td>\n",
       "      <td>0</td>\n",
       "      <td>0</td>\n",
       "      <td>0</td>\n",
       "      <td>1</td>\n",
       "      <td>1</td>\n",
       "      <td>1</td>\n",
       "      <td>0</td>\n",
       "    </tr>\n",
       "    <tr>\n",
       "      <th>1</th>\n",
       "      <td>2016.0</td>\n",
       "      <td>20000</td>\n",
       "      <td>18.90</td>\n",
       "      <td>1197.0</td>\n",
       "      <td>82.00</td>\n",
       "      <td>7.0</td>\n",
       "      <td>5.458819</td>\n",
       "      <td>5.527772</td>\n",
       "      <td>1</td>\n",
       "      <td>0</td>\n",
       "      <td>0</td>\n",
       "      <td>0</td>\n",
       "      <td>0</td>\n",
       "      <td>1</td>\n",
       "      <td>1</td>\n",
       "      <td>1</td>\n",
       "      <td>0</td>\n",
       "    </tr>\n",
       "    <tr>\n",
       "      <th>2</th>\n",
       "      <td>2010.0</td>\n",
       "      <td>60000</td>\n",
       "      <td>17.00</td>\n",
       "      <td>1197.0</td>\n",
       "      <td>80.00</td>\n",
       "      <td>13.0</td>\n",
       "      <td>5.458819</td>\n",
       "      <td>5.380584</td>\n",
       "      <td>1</td>\n",
       "      <td>0</td>\n",
       "      <td>0</td>\n",
       "      <td>0</td>\n",
       "      <td>0</td>\n",
       "      <td>1</td>\n",
       "      <td>1</td>\n",
       "      <td>1</td>\n",
       "      <td>0</td>\n",
       "    </tr>\n",
       "    <tr>\n",
       "      <th>3</th>\n",
       "      <td>2012.0</td>\n",
       "      <td>37000</td>\n",
       "      <td>20.92</td>\n",
       "      <td>998.0</td>\n",
       "      <td>67.10</td>\n",
       "      <td>11.0</td>\n",
       "      <td>4.684721</td>\n",
       "      <td>2.268993</td>\n",
       "      <td>1</td>\n",
       "      <td>0</td>\n",
       "      <td>0</td>\n",
       "      <td>0</td>\n",
       "      <td>0</td>\n",
       "      <td>1</td>\n",
       "      <td>1</td>\n",
       "      <td>1</td>\n",
       "      <td>0</td>\n",
       "    </tr>\n",
       "    <tr>\n",
       "      <th>4</th>\n",
       "      <td>2015.0</td>\n",
       "      <td>30000</td>\n",
       "      <td>22.77</td>\n",
       "      <td>1498.0</td>\n",
       "      <td>98.59</td>\n",
       "      <td>8.0</td>\n",
       "      <td>5.858258</td>\n",
       "      <td>6.736442</td>\n",
       "      <td>0</td>\n",
       "      <td>0</td>\n",
       "      <td>1</td>\n",
       "      <td>0</td>\n",
       "      <td>0</td>\n",
       "      <td>0</td>\n",
       "      <td>1</td>\n",
       "      <td>1</td>\n",
       "      <td>0</td>\n",
       "    </tr>\n",
       "  </tbody>\n",
       "</table>\n",
       "</div>"
      ],
      "text/plain": [
       "     year  km_driven  mileage  engine  max_power   age      make     model  \\\n",
       "0  2012.0     120000    19.70   796.0      46.30  11.0  4.684721  5.235537   \n",
       "1  2016.0      20000    18.90  1197.0      82.00   7.0  5.458819  5.527772   \n",
       "2  2010.0      60000    17.00  1197.0      80.00  13.0  5.458819  5.380584   \n",
       "3  2012.0      37000    20.92   998.0      67.10  11.0  4.684721  2.268993   \n",
       "4  2015.0      30000    22.77  1498.0      98.59   8.0  5.858258  6.736442   \n",
       "\n",
       "   Individual  Trustmark Dealer  Diesel  Electric  LPG  Petrol  Manual  5  >5  \n",
       "0           1                 0       0         0    0       1       1  1   0  \n",
       "1           1                 0       0         0    0       1       1  1   0  \n",
       "2           1                 0       0         0    0       1       1  1   0  \n",
       "3           1                 0       0         0    0       1       1  1   0  \n",
       "4           0                 0       1         0    0       0       1  1   0  "
      ]
     },
     "execution_count": 73,
     "metadata": {},
     "output_type": "execute_result"
    }
   ],
   "source": [
    "x.head()"
   ]
  },
  {
   "cell_type": "code",
   "execution_count": 74,
   "id": "5dba23ed-c6ab-4966-871d-82637f05b230",
   "metadata": {},
   "outputs": [
    {
     "data": {
      "text/plain": [
       "0    1.20\n",
       "1    5.50\n",
       "2    2.15\n",
       "3    2.26\n",
       "4    5.70\n",
       "Name: selling_price, dtype: float64"
      ]
     },
     "execution_count": 74,
     "metadata": {},
     "output_type": "execute_result"
    }
   ],
   "source": [
    "y.head()"
   ]
  },
  {
   "cell_type": "markdown",
   "id": "119beb5b-fc13-4547-a6af-7ef8e79557e0",
   "metadata": {},
   "source": [
    " # Splitting the Dataset into train and test data"
   ]
  },
  {
   "cell_type": "code",
   "execution_count": 75,
   "id": "a1025559-f847-434e-a7ed-ef26034bb771",
   "metadata": {},
   "outputs": [],
   "source": [
    "from sklearn.model_selection import train_test_split"
   ]
  },
  {
   "cell_type": "code",
   "execution_count": 76,
   "id": "a508703f-aa4d-4dfb-987f-d1f9f6baf166",
   "metadata": {},
   "outputs": [],
   "source": [
    "x_train, x_test, y_train, y_test = train_test_split(x, y, test_size=0.25, random_state=42)"
   ]
  },
  {
   "cell_type": "code",
   "execution_count": 77,
   "id": "a86a7e5d-db85-4050-8960-8728f078f34d",
   "metadata": {},
   "outputs": [
    {
     "data": {
      "text/plain": [
       "((14865, 17), (14865,))"
      ]
     },
     "execution_count": 77,
     "metadata": {},
     "output_type": "execute_result"
    }
   ],
   "source": [
    "x_train.shape, y_train.shape"
   ]
  },
  {
   "cell_type": "code",
   "execution_count": 78,
   "id": "6b4f6cb3-6db4-4e36-ab1d-c3b2178517b4",
   "metadata": {},
   "outputs": [
    {
     "data": {
      "text/plain": [
       "((4955, 17), (4955,))"
      ]
     },
     "execution_count": 78,
     "metadata": {},
     "output_type": "execute_result"
    }
   ],
   "source": [
    "x_test.shape, y_test.shape"
   ]
  },
  {
   "cell_type": "code",
   "execution_count": 79,
   "id": "c1be2d40-3e78-406a-b56d-7040cbfe5e78",
   "metadata": {},
   "outputs": [],
   "source": [
    "from sklearn.preprocessing import StandardScaler"
   ]
  },
  {
   "cell_type": "code",
   "execution_count": 80,
   "id": "d87ec156-e2ca-4d62-8715-21fea88c575a",
   "metadata": {},
   "outputs": [
    {
     "data": {
      "text/plain": [
       "array([[-1.11516895, -0.81076741,  2.0710607 , ...,  0.49894865,\n",
       "         0.44401472, -0.42398338],\n",
       "       [ 1.07946178, -0.96876242,  1.41987737, ...,  0.49894865,\n",
       "         0.44401472, -0.42398338],\n",
       "       [ 0.7659431 , -0.19826591, -0.975547  , ...,  0.49894865,\n",
       "        -2.2521776 ,  2.35858303],\n",
       "       ...,\n",
       "       [-0.17461292,  0.99333244, -0.04528511, ...,  0.49894865,\n",
       "         0.44401472, -0.42398338],\n",
       "       [ 0.45242443,  0.28014297, -0.39413331, ...,  0.49894865,\n",
       "         0.44401472, -0.42398338],\n",
       "       [-0.17461292,  0.72404123, -1.73138478, ...,  0.49894865,\n",
       "        -2.2521776 ,  2.35858303]])"
      ]
     },
     "execution_count": 80,
     "metadata": {},
     "output_type": "execute_result"
    }
   ],
   "source": [
    "scaler = StandardScaler()\n",
    "scaled_train = scaler.fit_transform(x_train)\n",
    "scaled_train"
   ]
  },
  {
   "cell_type": "code",
   "execution_count": 81,
   "id": "1033ba66-443d-4b3a-bb69-5f2a152a6d1b",
   "metadata": {},
   "outputs": [
    {
     "data": {
      "text/plain": [
       "array([[ 0.7659431 ,  0.49833408,  0.4989181 , ...,  0.49894865,\n",
       "         0.44401472, -0.42398338],\n",
       "       [ 0.13890575,  0.08077584,  0.15006989, ...,  0.49894865,\n",
       "         0.44401472, -0.42398338],\n",
       "       [ 0.45242443,  0.30422592,  1.81523868, ...,  0.49894865,\n",
       "         0.44401472, -0.42398338],\n",
       "       ...,\n",
       "       [ 0.7659431 , -0.40449454,  1.03614434, ...,  0.49894865,\n",
       "         0.44401472, -0.42398338],\n",
       "       [ 0.45242443, -0.51734812, -0.95229045, ...,  0.49894865,\n",
       "        -2.2521776 ,  2.35858303],\n",
       "       [-0.17461292, -0.0201604 ,  0.39891495, ...,  0.49894865,\n",
       "         0.44401472, -0.42398338]])"
      ]
     },
     "execution_count": 81,
     "metadata": {},
     "output_type": "execute_result"
    }
   ],
   "source": [
    "scaled_test = scaler.transform(x_test)\n",
    "scaled_test"
   ]
  },
  {
   "cell_type": "code",
   "execution_count": 82,
   "id": "47eaffc3-18d3-4c24-adb5-45bd3bda3ccb",
   "metadata": {},
   "outputs": [],
   "source": [
    "x_train[x_train.columns] = scaled_train"
   ]
  },
  {
   "cell_type": "code",
   "execution_count": 83,
   "id": "065ab7ae-de68-42f9-80e6-ec930b59c58c",
   "metadata": {},
   "outputs": [
    {
     "data": {
      "text/html": [
       "<div>\n",
       "<style scoped>\n",
       "    .dataframe tbody tr th:only-of-type {\n",
       "        vertical-align: middle;\n",
       "    }\n",
       "\n",
       "    .dataframe tbody tr th {\n",
       "        vertical-align: top;\n",
       "    }\n",
       "\n",
       "    .dataframe thead th {\n",
       "        text-align: right;\n",
       "    }\n",
       "</style>\n",
       "<table border=\"1\" class=\"dataframe\">\n",
       "  <thead>\n",
       "    <tr style=\"text-align: right;\">\n",
       "      <th></th>\n",
       "      <th>year</th>\n",
       "      <th>km_driven</th>\n",
       "      <th>mileage</th>\n",
       "      <th>engine</th>\n",
       "      <th>max_power</th>\n",
       "      <th>age</th>\n",
       "      <th>make</th>\n",
       "      <th>model</th>\n",
       "      <th>Individual</th>\n",
       "      <th>Trustmark Dealer</th>\n",
       "      <th>Diesel</th>\n",
       "      <th>Electric</th>\n",
       "      <th>LPG</th>\n",
       "      <th>Petrol</th>\n",
       "      <th>Manual</th>\n",
       "      <th>5</th>\n",
       "      <th>&gt;5</th>\n",
       "    </tr>\n",
       "  </thead>\n",
       "  <tbody>\n",
       "    <tr>\n",
       "      <th>18869</th>\n",
       "      <td>-1.115169</td>\n",
       "      <td>-0.810767</td>\n",
       "      <td>2.071061</td>\n",
       "      <td>-0.441997</td>\n",
       "      <td>-0.545491</td>\n",
       "      <td>1.115169</td>\n",
       "      <td>-0.526860</td>\n",
       "      <td>-0.880032</td>\n",
       "      <td>-0.799437</td>\n",
       "      <td>-0.100623</td>\n",
       "      <td>1.013069</td>\n",
       "      <td>-0.020095</td>\n",
       "      <td>-0.053862</td>\n",
       "      <td>-0.972330</td>\n",
       "      <td>0.498949</td>\n",
       "      <td>0.444015</td>\n",
       "      <td>-0.423983</td>\n",
       "    </tr>\n",
       "    <tr>\n",
       "      <th>3198</th>\n",
       "      <td>1.079462</td>\n",
       "      <td>-0.968762</td>\n",
       "      <td>1.419877</td>\n",
       "      <td>0.043501</td>\n",
       "      <td>-0.009973</td>\n",
       "      <td>-1.079462</td>\n",
       "      <td>-0.159551</td>\n",
       "      <td>0.349767</td>\n",
       "      <td>1.250880</td>\n",
       "      <td>-0.100623</td>\n",
       "      <td>1.013069</td>\n",
       "      <td>-0.020095</td>\n",
       "      <td>-0.053862</td>\n",
       "      <td>-0.972330</td>\n",
       "      <td>0.498949</td>\n",
       "      <td>0.444015</td>\n",
       "      <td>-0.423983</td>\n",
       "    </tr>\n",
       "    <tr>\n",
       "      <th>14770</th>\n",
       "      <td>0.765943</td>\n",
       "      <td>-0.198266</td>\n",
       "      <td>-0.975547</td>\n",
       "      <td>2.874926</td>\n",
       "      <td>-0.325906</td>\n",
       "      <td>-0.765943</td>\n",
       "      <td>-0.612940</td>\n",
       "      <td>-0.133186</td>\n",
       "      <td>-0.799437</td>\n",
       "      <td>-0.100623</td>\n",
       "      <td>1.013069</td>\n",
       "      <td>-0.020095</td>\n",
       "      <td>-0.053862</td>\n",
       "      <td>-0.972330</td>\n",
       "      <td>0.498949</td>\n",
       "      <td>-2.252178</td>\n",
       "      <td>2.358583</td>\n",
       "    </tr>\n",
       "    <tr>\n",
       "      <th>16545</th>\n",
       "      <td>0.452424</td>\n",
       "      <td>-0.517348</td>\n",
       "      <td>0.073323</td>\n",
       "      <td>-0.756600</td>\n",
       "      <td>-0.678810</td>\n",
       "      <td>-0.452424</td>\n",
       "      <td>-0.307328</td>\n",
       "      <td>-1.126174</td>\n",
       "      <td>1.250880</td>\n",
       "      <td>-0.100623</td>\n",
       "      <td>-0.987100</td>\n",
       "      <td>-0.020095</td>\n",
       "      <td>-0.053862</td>\n",
       "      <td>1.028457</td>\n",
       "      <td>0.498949</td>\n",
       "      <td>0.444015</td>\n",
       "      <td>-0.423983</td>\n",
       "    </tr>\n",
       "    <tr>\n",
       "      <th>7508</th>\n",
       "      <td>-2.369244</td>\n",
       "      <td>2.191138</td>\n",
       "      <td>-2.184887</td>\n",
       "      <td>1.705847</td>\n",
       "      <td>1.202222</td>\n",
       "      <td>2.369244</td>\n",
       "      <td>-0.159551</td>\n",
       "      <td>0.227251</td>\n",
       "      <td>-0.799437</td>\n",
       "      <td>-0.100623</td>\n",
       "      <td>-0.987100</td>\n",
       "      <td>-0.020095</td>\n",
       "      <td>-0.053862</td>\n",
       "      <td>1.028457</td>\n",
       "      <td>-2.004214</td>\n",
       "      <td>0.444015</td>\n",
       "      <td>-0.423983</td>\n",
       "    </tr>\n",
       "  </tbody>\n",
       "</table>\n",
       "</div>"
      ],
      "text/plain": [
       "           year  km_driven   mileage    engine  max_power       age      make  \\\n",
       "18869 -1.115169  -0.810767  2.071061 -0.441997  -0.545491  1.115169 -0.526860   \n",
       "3198   1.079462  -0.968762  1.419877  0.043501  -0.009973 -1.079462 -0.159551   \n",
       "14770  0.765943  -0.198266 -0.975547  2.874926  -0.325906 -0.765943 -0.612940   \n",
       "16545  0.452424  -0.517348  0.073323 -0.756600  -0.678810 -0.452424 -0.307328   \n",
       "7508  -2.369244   2.191138 -2.184887  1.705847   1.202222  2.369244 -0.159551   \n",
       "\n",
       "          model  Individual  Trustmark Dealer    Diesel  Electric       LPG  \\\n",
       "18869 -0.880032   -0.799437         -0.100623  1.013069 -0.020095 -0.053862   \n",
       "3198   0.349767    1.250880         -0.100623  1.013069 -0.020095 -0.053862   \n",
       "14770 -0.133186   -0.799437         -0.100623  1.013069 -0.020095 -0.053862   \n",
       "16545 -1.126174    1.250880         -0.100623 -0.987100 -0.020095 -0.053862   \n",
       "7508   0.227251   -0.799437         -0.100623 -0.987100 -0.020095 -0.053862   \n",
       "\n",
       "         Petrol    Manual         5        >5  \n",
       "18869 -0.972330  0.498949  0.444015 -0.423983  \n",
       "3198  -0.972330  0.498949  0.444015 -0.423983  \n",
       "14770 -0.972330  0.498949 -2.252178  2.358583  \n",
       "16545  1.028457  0.498949  0.444015 -0.423983  \n",
       "7508   1.028457 -2.004214  0.444015 -0.423983  "
      ]
     },
     "execution_count": 83,
     "metadata": {},
     "output_type": "execute_result"
    }
   ],
   "source": [
    "x_train.head()"
   ]
  },
  {
   "cell_type": "code",
   "execution_count": 84,
   "id": "97d5ab02-3e2f-41df-99a1-ba29b8710565",
   "metadata": {},
   "outputs": [],
   "source": [
    "x_test[x_test.columns] = scaled_test"
   ]
  },
  {
   "cell_type": "code",
   "execution_count": 85,
   "id": "75847b1f-23a7-4e7e-ac73-774143d21b91",
   "metadata": {},
   "outputs": [
    {
     "data": {
      "text/html": [
       "<div>\n",
       "<style scoped>\n",
       "    .dataframe tbody tr th:only-of-type {\n",
       "        vertical-align: middle;\n",
       "    }\n",
       "\n",
       "    .dataframe tbody tr th {\n",
       "        vertical-align: top;\n",
       "    }\n",
       "\n",
       "    .dataframe thead th {\n",
       "        text-align: right;\n",
       "    }\n",
       "</style>\n",
       "<table border=\"1\" class=\"dataframe\">\n",
       "  <thead>\n",
       "    <tr style=\"text-align: right;\">\n",
       "      <th></th>\n",
       "      <th>year</th>\n",
       "      <th>km_driven</th>\n",
       "      <th>mileage</th>\n",
       "      <th>engine</th>\n",
       "      <th>max_power</th>\n",
       "      <th>age</th>\n",
       "      <th>make</th>\n",
       "      <th>model</th>\n",
       "      <th>Individual</th>\n",
       "      <th>Trustmark Dealer</th>\n",
       "      <th>Diesel</th>\n",
       "      <th>Electric</th>\n",
       "      <th>LPG</th>\n",
       "      <th>Petrol</th>\n",
       "      <th>Manual</th>\n",
       "      <th>5</th>\n",
       "      <th>&gt;5</th>\n",
       "    </tr>\n",
       "  </thead>\n",
       "  <tbody>\n",
       "    <tr>\n",
       "      <th>960</th>\n",
       "      <td>0.765943</td>\n",
       "      <td>0.498334</td>\n",
       "      <td>0.498918</td>\n",
       "      <td>-0.028353</td>\n",
       "      <td>-0.303500</td>\n",
       "      <td>-0.765943</td>\n",
       "      <td>-0.549001</td>\n",
       "      <td>-0.041712</td>\n",
       "      <td>1.250880</td>\n",
       "      <td>-0.100623</td>\n",
       "      <td>1.013069</td>\n",
       "      <td>-0.020095</td>\n",
       "      <td>-0.053862</td>\n",
       "      <td>-0.972330</td>\n",
       "      <td>0.498949</td>\n",
       "      <td>0.444015</td>\n",
       "      <td>-0.423983</td>\n",
       "    </tr>\n",
       "    <tr>\n",
       "      <th>4073</th>\n",
       "      <td>0.138906</td>\n",
       "      <td>0.080776</td>\n",
       "      <td>0.150070</td>\n",
       "      <td>0.043501</td>\n",
       "      <td>-0.213873</td>\n",
       "      <td>-0.138906</td>\n",
       "      <td>-0.284219</td>\n",
       "      <td>-0.444664</td>\n",
       "      <td>-0.799437</td>\n",
       "      <td>-0.100623</td>\n",
       "      <td>1.013069</td>\n",
       "      <td>-0.020095</td>\n",
       "      <td>-0.053862</td>\n",
       "      <td>-0.972330</td>\n",
       "      <td>0.498949</td>\n",
       "      <td>0.444015</td>\n",
       "      <td>-0.423983</td>\n",
       "    </tr>\n",
       "    <tr>\n",
       "      <th>4339</th>\n",
       "      <td>0.452424</td>\n",
       "      <td>0.304226</td>\n",
       "      <td>1.815239</td>\n",
       "      <td>0.043501</td>\n",
       "      <td>0.005711</td>\n",
       "      <td>-0.452424</td>\n",
       "      <td>-0.159551</td>\n",
       "      <td>0.074281</td>\n",
       "      <td>-0.799437</td>\n",
       "      <td>-0.100623</td>\n",
       "      <td>1.013069</td>\n",
       "      <td>-0.020095</td>\n",
       "      <td>-0.053862</td>\n",
       "      <td>-0.972330</td>\n",
       "      <td>0.498949</td>\n",
       "      <td>0.444015</td>\n",
       "      <td>-0.423983</td>\n",
       "    </tr>\n",
       "    <tr>\n",
       "      <th>19325</th>\n",
       "      <td>0.452424</td>\n",
       "      <td>-0.620903</td>\n",
       "      <td>-0.184824</td>\n",
       "      <td>-0.537155</td>\n",
       "      <td>-0.216114</td>\n",
       "      <td>-0.452424</td>\n",
       "      <td>-0.159551</td>\n",
       "      <td>0.058142</td>\n",
       "      <td>-0.799437</td>\n",
       "      <td>-0.100623</td>\n",
       "      <td>-0.987100</td>\n",
       "      <td>-0.020095</td>\n",
       "      <td>-0.053862</td>\n",
       "      <td>1.028457</td>\n",
       "      <td>0.498949</td>\n",
       "      <td>0.444015</td>\n",
       "      <td>-0.423983</td>\n",
       "    </tr>\n",
       "    <tr>\n",
       "      <th>438</th>\n",
       "      <td>-0.801650</td>\n",
       "      <td>0.046920</td>\n",
       "      <td>0.331471</td>\n",
       "      <td>-0.927496</td>\n",
       "      <td>-0.700096</td>\n",
       "      <td>0.801650</td>\n",
       "      <td>-0.526860</td>\n",
       "      <td>-1.956766</td>\n",
       "      <td>1.250880</td>\n",
       "      <td>-0.100623</td>\n",
       "      <td>-0.987100</td>\n",
       "      <td>-0.020095</td>\n",
       "      <td>-0.053862</td>\n",
       "      <td>1.028457</td>\n",
       "      <td>0.498949</td>\n",
       "      <td>0.444015</td>\n",
       "      <td>-0.423983</td>\n",
       "    </tr>\n",
       "  </tbody>\n",
       "</table>\n",
       "</div>"
      ],
      "text/plain": [
       "           year  km_driven   mileage    engine  max_power       age      make  \\\n",
       "960    0.765943   0.498334  0.498918 -0.028353  -0.303500 -0.765943 -0.549001   \n",
       "4073   0.138906   0.080776  0.150070  0.043501  -0.213873 -0.138906 -0.284219   \n",
       "4339   0.452424   0.304226  1.815239  0.043501   0.005711 -0.452424 -0.159551   \n",
       "19325  0.452424  -0.620903 -0.184824 -0.537155  -0.216114 -0.452424 -0.159551   \n",
       "438   -0.801650   0.046920  0.331471 -0.927496  -0.700096  0.801650 -0.526860   \n",
       "\n",
       "          model  Individual  Trustmark Dealer    Diesel  Electric       LPG  \\\n",
       "960   -0.041712    1.250880         -0.100623  1.013069 -0.020095 -0.053862   \n",
       "4073  -0.444664   -0.799437         -0.100623  1.013069 -0.020095 -0.053862   \n",
       "4339   0.074281   -0.799437         -0.100623  1.013069 -0.020095 -0.053862   \n",
       "19325  0.058142   -0.799437         -0.100623 -0.987100 -0.020095 -0.053862   \n",
       "438   -1.956766    1.250880         -0.100623 -0.987100 -0.020095 -0.053862   \n",
       "\n",
       "         Petrol    Manual         5        >5  \n",
       "960   -0.972330  0.498949  0.444015 -0.423983  \n",
       "4073  -0.972330  0.498949  0.444015 -0.423983  \n",
       "4339  -0.972330  0.498949  0.444015 -0.423983  \n",
       "19325  1.028457  0.498949  0.444015 -0.423983  \n",
       "438    1.028457  0.498949  0.444015 -0.423983  "
      ]
     },
     "execution_count": 85,
     "metadata": {},
     "output_type": "execute_result"
    }
   ],
   "source": [
    "x_test.head()"
   ]
  },
  {
   "cell_type": "markdown",
   "id": "b861d40c-d824-4ac2-a708-aa9030927201",
   "metadata": {},
   "source": [
    "Modeling"
   ]
  },
  {
   "cell_type": "code",
   "execution_count": 86,
   "id": "fc54c4cf-d9ed-44bf-b053-d1e2f93d074c",
   "metadata": {},
   "outputs": [],
   "source": [
    "from sklearn.linear_model import LinearRegression"
   ]
  },
  {
   "cell_type": "code",
   "execution_count": 87,
   "id": "b3a60e67-08ec-4f41-9624-bae63d8f8dd7",
   "metadata": {},
   "outputs": [],
   "source": [
    "model = LinearRegression()"
   ]
  },
  {
   "cell_type": "code",
   "execution_count": 88,
   "id": "87c1e0a8-60e8-4ba2-85f1-427984d35937",
   "metadata": {},
   "outputs": [
    {
     "data": {
      "text/html": [
       "<style>#sk-container-id-2 {\n",
       "  /* Definition of color scheme common for light and dark mode */\n",
       "  --sklearn-color-text: black;\n",
       "  --sklearn-color-line: gray;\n",
       "  /* Definition of color scheme for unfitted estimators */\n",
       "  --sklearn-color-unfitted-level-0: #fff5e6;\n",
       "  --sklearn-color-unfitted-level-1: #f6e4d2;\n",
       "  --sklearn-color-unfitted-level-2: #ffe0b3;\n",
       "  --sklearn-color-unfitted-level-3: chocolate;\n",
       "  /* Definition of color scheme for fitted estimators */\n",
       "  --sklearn-color-fitted-level-0: #f0f8ff;\n",
       "  --sklearn-color-fitted-level-1: #d4ebff;\n",
       "  --sklearn-color-fitted-level-2: #b3dbfd;\n",
       "  --sklearn-color-fitted-level-3: cornflowerblue;\n",
       "\n",
       "  /* Specific color for light theme */\n",
       "  --sklearn-color-text-on-default-background: var(--sg-text-color, var(--theme-code-foreground, var(--jp-content-font-color1, black)));\n",
       "  --sklearn-color-background: var(--sg-background-color, var(--theme-background, var(--jp-layout-color0, white)));\n",
       "  --sklearn-color-border-box: var(--sg-text-color, var(--theme-code-foreground, var(--jp-content-font-color1, black)));\n",
       "  --sklearn-color-icon: #696969;\n",
       "\n",
       "  @media (prefers-color-scheme: dark) {\n",
       "    /* Redefinition of color scheme for dark theme */\n",
       "    --sklearn-color-text-on-default-background: var(--sg-text-color, var(--theme-code-foreground, var(--jp-content-font-color1, white)));\n",
       "    --sklearn-color-background: var(--sg-background-color, var(--theme-background, var(--jp-layout-color0, #111)));\n",
       "    --sklearn-color-border-box: var(--sg-text-color, var(--theme-code-foreground, var(--jp-content-font-color1, white)));\n",
       "    --sklearn-color-icon: #878787;\n",
       "  }\n",
       "}\n",
       "\n",
       "#sk-container-id-2 {\n",
       "  color: var(--sklearn-color-text);\n",
       "}\n",
       "\n",
       "#sk-container-id-2 pre {\n",
       "  padding: 0;\n",
       "}\n",
       "\n",
       "#sk-container-id-2 input.sk-hidden--visually {\n",
       "  border: 0;\n",
       "  clip: rect(1px 1px 1px 1px);\n",
       "  clip: rect(1px, 1px, 1px, 1px);\n",
       "  height: 1px;\n",
       "  margin: -1px;\n",
       "  overflow: hidden;\n",
       "  padding: 0;\n",
       "  position: absolute;\n",
       "  width: 1px;\n",
       "}\n",
       "\n",
       "#sk-container-id-2 div.sk-dashed-wrapped {\n",
       "  border: 1px dashed var(--sklearn-color-line);\n",
       "  margin: 0 0.4em 0.5em 0.4em;\n",
       "  box-sizing: border-box;\n",
       "  padding-bottom: 0.4em;\n",
       "  background-color: var(--sklearn-color-background);\n",
       "}\n",
       "\n",
       "#sk-container-id-2 div.sk-container {\n",
       "  /* jupyter's `normalize.less` sets `[hidden] { display: none; }`\n",
       "     but bootstrap.min.css set `[hidden] { display: none !important; }`\n",
       "     so we also need the `!important` here to be able to override the\n",
       "     default hidden behavior on the sphinx rendered scikit-learn.org.\n",
       "     See: https://github.com/scikit-learn/scikit-learn/issues/21755 */\n",
       "  display: inline-block !important;\n",
       "  position: relative;\n",
       "}\n",
       "\n",
       "#sk-container-id-2 div.sk-text-repr-fallback {\n",
       "  display: none;\n",
       "}\n",
       "\n",
       "div.sk-parallel-item,\n",
       "div.sk-serial,\n",
       "div.sk-item {\n",
       "  /* draw centered vertical line to link estimators */\n",
       "  background-image: linear-gradient(var(--sklearn-color-text-on-default-background), var(--sklearn-color-text-on-default-background));\n",
       "  background-size: 2px 100%;\n",
       "  background-repeat: no-repeat;\n",
       "  background-position: center center;\n",
       "}\n",
       "\n",
       "/* Parallel-specific style estimator block */\n",
       "\n",
       "#sk-container-id-2 div.sk-parallel-item::after {\n",
       "  content: \"\";\n",
       "  width: 100%;\n",
       "  border-bottom: 2px solid var(--sklearn-color-text-on-default-background);\n",
       "  flex-grow: 1;\n",
       "}\n",
       "\n",
       "#sk-container-id-2 div.sk-parallel {\n",
       "  display: flex;\n",
       "  align-items: stretch;\n",
       "  justify-content: center;\n",
       "  background-color: var(--sklearn-color-background);\n",
       "  position: relative;\n",
       "}\n",
       "\n",
       "#sk-container-id-2 div.sk-parallel-item {\n",
       "  display: flex;\n",
       "  flex-direction: column;\n",
       "}\n",
       "\n",
       "#sk-container-id-2 div.sk-parallel-item:first-child::after {\n",
       "  align-self: flex-end;\n",
       "  width: 50%;\n",
       "}\n",
       "\n",
       "#sk-container-id-2 div.sk-parallel-item:last-child::after {\n",
       "  align-self: flex-start;\n",
       "  width: 50%;\n",
       "}\n",
       "\n",
       "#sk-container-id-2 div.sk-parallel-item:only-child::after {\n",
       "  width: 0;\n",
       "}\n",
       "\n",
       "/* Serial-specific style estimator block */\n",
       "\n",
       "#sk-container-id-2 div.sk-serial {\n",
       "  display: flex;\n",
       "  flex-direction: column;\n",
       "  align-items: center;\n",
       "  background-color: var(--sklearn-color-background);\n",
       "  padding-right: 1em;\n",
       "  padding-left: 1em;\n",
       "}\n",
       "\n",
       "\n",
       "/* Toggleable style: style used for estimator/Pipeline/ColumnTransformer box that is\n",
       "clickable and can be expanded/collapsed.\n",
       "- Pipeline and ColumnTransformer use this feature and define the default style\n",
       "- Estimators will overwrite some part of the style using the `sk-estimator` class\n",
       "*/\n",
       "\n",
       "/* Pipeline and ColumnTransformer style (default) */\n",
       "\n",
       "#sk-container-id-2 div.sk-toggleable {\n",
       "  /* Default theme specific background. It is overwritten whether we have a\n",
       "  specific estimator or a Pipeline/ColumnTransformer */\n",
       "  background-color: var(--sklearn-color-background);\n",
       "}\n",
       "\n",
       "/* Toggleable label */\n",
       "#sk-container-id-2 label.sk-toggleable__label {\n",
       "  cursor: pointer;\n",
       "  display: block;\n",
       "  width: 100%;\n",
       "  margin-bottom: 0;\n",
       "  padding: 0.5em;\n",
       "  box-sizing: border-box;\n",
       "  text-align: center;\n",
       "}\n",
       "\n",
       "#sk-container-id-2 label.sk-toggleable__label-arrow:before {\n",
       "  /* Arrow on the left of the label */\n",
       "  content: \"▸\";\n",
       "  float: left;\n",
       "  margin-right: 0.25em;\n",
       "  color: var(--sklearn-color-icon);\n",
       "}\n",
       "\n",
       "#sk-container-id-2 label.sk-toggleable__label-arrow:hover:before {\n",
       "  color: var(--sklearn-color-text);\n",
       "}\n",
       "\n",
       "/* Toggleable content - dropdown */\n",
       "\n",
       "#sk-container-id-2 div.sk-toggleable__content {\n",
       "  max-height: 0;\n",
       "  max-width: 0;\n",
       "  overflow: hidden;\n",
       "  text-align: left;\n",
       "  /* unfitted */\n",
       "  background-color: var(--sklearn-color-unfitted-level-0);\n",
       "}\n",
       "\n",
       "#sk-container-id-2 div.sk-toggleable__content.fitted {\n",
       "  /* fitted */\n",
       "  background-color: var(--sklearn-color-fitted-level-0);\n",
       "}\n",
       "\n",
       "#sk-container-id-2 div.sk-toggleable__content pre {\n",
       "  margin: 0.2em;\n",
       "  border-radius: 0.25em;\n",
       "  color: var(--sklearn-color-text);\n",
       "  /* unfitted */\n",
       "  background-color: var(--sklearn-color-unfitted-level-0);\n",
       "}\n",
       "\n",
       "#sk-container-id-2 div.sk-toggleable__content.fitted pre {\n",
       "  /* unfitted */\n",
       "  background-color: var(--sklearn-color-fitted-level-0);\n",
       "}\n",
       "\n",
       "#sk-container-id-2 input.sk-toggleable__control:checked~div.sk-toggleable__content {\n",
       "  /* Expand drop-down */\n",
       "  max-height: 200px;\n",
       "  max-width: 100%;\n",
       "  overflow: auto;\n",
       "}\n",
       "\n",
       "#sk-container-id-2 input.sk-toggleable__control:checked~label.sk-toggleable__label-arrow:before {\n",
       "  content: \"▾\";\n",
       "}\n",
       "\n",
       "/* Pipeline/ColumnTransformer-specific style */\n",
       "\n",
       "#sk-container-id-2 div.sk-label input.sk-toggleable__control:checked~label.sk-toggleable__label {\n",
       "  color: var(--sklearn-color-text);\n",
       "  background-color: var(--sklearn-color-unfitted-level-2);\n",
       "}\n",
       "\n",
       "#sk-container-id-2 div.sk-label.fitted input.sk-toggleable__control:checked~label.sk-toggleable__label {\n",
       "  background-color: var(--sklearn-color-fitted-level-2);\n",
       "}\n",
       "\n",
       "/* Estimator-specific style */\n",
       "\n",
       "/* Colorize estimator box */\n",
       "#sk-container-id-2 div.sk-estimator input.sk-toggleable__control:checked~label.sk-toggleable__label {\n",
       "  /* unfitted */\n",
       "  background-color: var(--sklearn-color-unfitted-level-2);\n",
       "}\n",
       "\n",
       "#sk-container-id-2 div.sk-estimator.fitted input.sk-toggleable__control:checked~label.sk-toggleable__label {\n",
       "  /* fitted */\n",
       "  background-color: var(--sklearn-color-fitted-level-2);\n",
       "}\n",
       "\n",
       "#sk-container-id-2 div.sk-label label.sk-toggleable__label,\n",
       "#sk-container-id-2 div.sk-label label {\n",
       "  /* The background is the default theme color */\n",
       "  color: var(--sklearn-color-text-on-default-background);\n",
       "}\n",
       "\n",
       "/* On hover, darken the color of the background */\n",
       "#sk-container-id-2 div.sk-label:hover label.sk-toggleable__label {\n",
       "  color: var(--sklearn-color-text);\n",
       "  background-color: var(--sklearn-color-unfitted-level-2);\n",
       "}\n",
       "\n",
       "/* Label box, darken color on hover, fitted */\n",
       "#sk-container-id-2 div.sk-label.fitted:hover label.sk-toggleable__label.fitted {\n",
       "  color: var(--sklearn-color-text);\n",
       "  background-color: var(--sklearn-color-fitted-level-2);\n",
       "}\n",
       "\n",
       "/* Estimator label */\n",
       "\n",
       "#sk-container-id-2 div.sk-label label {\n",
       "  font-family: monospace;\n",
       "  font-weight: bold;\n",
       "  display: inline-block;\n",
       "  line-height: 1.2em;\n",
       "}\n",
       "\n",
       "#sk-container-id-2 div.sk-label-container {\n",
       "  text-align: center;\n",
       "}\n",
       "\n",
       "/* Estimator-specific */\n",
       "#sk-container-id-2 div.sk-estimator {\n",
       "  font-family: monospace;\n",
       "  border: 1px dotted var(--sklearn-color-border-box);\n",
       "  border-radius: 0.25em;\n",
       "  box-sizing: border-box;\n",
       "  margin-bottom: 0.5em;\n",
       "  /* unfitted */\n",
       "  background-color: var(--sklearn-color-unfitted-level-0);\n",
       "}\n",
       "\n",
       "#sk-container-id-2 div.sk-estimator.fitted {\n",
       "  /* fitted */\n",
       "  background-color: var(--sklearn-color-fitted-level-0);\n",
       "}\n",
       "\n",
       "/* on hover */\n",
       "#sk-container-id-2 div.sk-estimator:hover {\n",
       "  /* unfitted */\n",
       "  background-color: var(--sklearn-color-unfitted-level-2);\n",
       "}\n",
       "\n",
       "#sk-container-id-2 div.sk-estimator.fitted:hover {\n",
       "  /* fitted */\n",
       "  background-color: var(--sklearn-color-fitted-level-2);\n",
       "}\n",
       "\n",
       "/* Specification for estimator info (e.g. \"i\" and \"?\") */\n",
       "\n",
       "/* Common style for \"i\" and \"?\" */\n",
       "\n",
       ".sk-estimator-doc-link,\n",
       "a:link.sk-estimator-doc-link,\n",
       "a:visited.sk-estimator-doc-link {\n",
       "  float: right;\n",
       "  font-size: smaller;\n",
       "  line-height: 1em;\n",
       "  font-family: monospace;\n",
       "  background-color: var(--sklearn-color-background);\n",
       "  border-radius: 1em;\n",
       "  height: 1em;\n",
       "  width: 1em;\n",
       "  text-decoration: none !important;\n",
       "  margin-left: 1ex;\n",
       "  /* unfitted */\n",
       "  border: var(--sklearn-color-unfitted-level-1) 1pt solid;\n",
       "  color: var(--sklearn-color-unfitted-level-1);\n",
       "}\n",
       "\n",
       ".sk-estimator-doc-link.fitted,\n",
       "a:link.sk-estimator-doc-link.fitted,\n",
       "a:visited.sk-estimator-doc-link.fitted {\n",
       "  /* fitted */\n",
       "  border: var(--sklearn-color-fitted-level-1) 1pt solid;\n",
       "  color: var(--sklearn-color-fitted-level-1);\n",
       "}\n",
       "\n",
       "/* On hover */\n",
       "div.sk-estimator:hover .sk-estimator-doc-link:hover,\n",
       ".sk-estimator-doc-link:hover,\n",
       "div.sk-label-container:hover .sk-estimator-doc-link:hover,\n",
       ".sk-estimator-doc-link:hover {\n",
       "  /* unfitted */\n",
       "  background-color: var(--sklearn-color-unfitted-level-3);\n",
       "  color: var(--sklearn-color-background);\n",
       "  text-decoration: none;\n",
       "}\n",
       "\n",
       "div.sk-estimator.fitted:hover .sk-estimator-doc-link.fitted:hover,\n",
       ".sk-estimator-doc-link.fitted:hover,\n",
       "div.sk-label-container:hover .sk-estimator-doc-link.fitted:hover,\n",
       ".sk-estimator-doc-link.fitted:hover {\n",
       "  /* fitted */\n",
       "  background-color: var(--sklearn-color-fitted-level-3);\n",
       "  color: var(--sklearn-color-background);\n",
       "  text-decoration: none;\n",
       "}\n",
       "\n",
       "/* Span, style for the box shown on hovering the info icon */\n",
       ".sk-estimator-doc-link span {\n",
       "  display: none;\n",
       "  z-index: 9999;\n",
       "  position: relative;\n",
       "  font-weight: normal;\n",
       "  right: .2ex;\n",
       "  padding: .5ex;\n",
       "  margin: .5ex;\n",
       "  width: min-content;\n",
       "  min-width: 20ex;\n",
       "  max-width: 50ex;\n",
       "  color: var(--sklearn-color-text);\n",
       "  box-shadow: 2pt 2pt 4pt #999;\n",
       "  /* unfitted */\n",
       "  background: var(--sklearn-color-unfitted-level-0);\n",
       "  border: .5pt solid var(--sklearn-color-unfitted-level-3);\n",
       "}\n",
       "\n",
       ".sk-estimator-doc-link.fitted span {\n",
       "  /* fitted */\n",
       "  background: var(--sklearn-color-fitted-level-0);\n",
       "  border: var(--sklearn-color-fitted-level-3);\n",
       "}\n",
       "\n",
       ".sk-estimator-doc-link:hover span {\n",
       "  display: block;\n",
       "}\n",
       "\n",
       "/* \"?\"-specific style due to the `<a>` HTML tag */\n",
       "\n",
       "#sk-container-id-2 a.estimator_doc_link {\n",
       "  float: right;\n",
       "  font-size: 1rem;\n",
       "  line-height: 1em;\n",
       "  font-family: monospace;\n",
       "  background-color: var(--sklearn-color-background);\n",
       "  border-radius: 1rem;\n",
       "  height: 1rem;\n",
       "  width: 1rem;\n",
       "  text-decoration: none;\n",
       "  /* unfitted */\n",
       "  color: var(--sklearn-color-unfitted-level-1);\n",
       "  border: var(--sklearn-color-unfitted-level-1) 1pt solid;\n",
       "}\n",
       "\n",
       "#sk-container-id-2 a.estimator_doc_link.fitted {\n",
       "  /* fitted */\n",
       "  border: var(--sklearn-color-fitted-level-1) 1pt solid;\n",
       "  color: var(--sklearn-color-fitted-level-1);\n",
       "}\n",
       "\n",
       "/* On hover */\n",
       "#sk-container-id-2 a.estimator_doc_link:hover {\n",
       "  /* unfitted */\n",
       "  background-color: var(--sklearn-color-unfitted-level-3);\n",
       "  color: var(--sklearn-color-background);\n",
       "  text-decoration: none;\n",
       "}\n",
       "\n",
       "#sk-container-id-2 a.estimator_doc_link.fitted:hover {\n",
       "  /* fitted */\n",
       "  background-color: var(--sklearn-color-fitted-level-3);\n",
       "}\n",
       "</style><div id=\"sk-container-id-2\" class=\"sk-top-container\"><div class=\"sk-text-repr-fallback\"><pre>LinearRegression()</pre><b>In a Jupyter environment, please rerun this cell to show the HTML representation or trust the notebook. <br />On GitHub, the HTML representation is unable to render, please try loading this page with nbviewer.org.</b></div><div class=\"sk-container\" hidden><div class=\"sk-item\"><div class=\"sk-estimator fitted sk-toggleable\"><input class=\"sk-toggleable__control sk-hidden--visually\" id=\"sk-estimator-id-2\" type=\"checkbox\" checked><label for=\"sk-estimator-id-2\" class=\"sk-toggleable__label fitted sk-toggleable__label-arrow fitted\">&nbsp;&nbsp;LinearRegression<a class=\"sk-estimator-doc-link fitted\" rel=\"noreferrer\" target=\"_blank\" href=\"https://scikit-learn.org/1.5/modules/generated/sklearn.linear_model.LinearRegression.html\">?<span>Documentation for LinearRegression</span></a><span class=\"sk-estimator-doc-link fitted\">i<span>Fitted</span></span></label><div class=\"sk-toggleable__content fitted\"><pre>LinearRegression()</pre></div> </div></div></div></div>"
      ],
      "text/plain": [
       "LinearRegression()"
      ]
     },
     "execution_count": 88,
     "metadata": {},
     "output_type": "execute_result"
    }
   ],
   "source": [
    "model.fit(x_train, y_train)"
   ]
  },
  {
   "cell_type": "code",
   "execution_count": 89,
   "id": "0d2ee1b4-4dc2-4af4-9eba-b095037f3371",
   "metadata": {},
   "outputs": [],
   "source": [
    "pred_train = model.predict(x_train)"
   ]
  },
  {
   "cell_type": "code",
   "execution_count": 90,
   "id": "ed293c71-ae7b-4453-9d27-c6f50104226a",
   "metadata": {},
   "outputs": [
    {
     "data": {
      "text/plain": [
       "array([2.43069487, 8.21501748, 7.25335759, ..., 4.23677639, 7.59682523,\n",
       "       7.91456044])"
      ]
     },
     "execution_count": 90,
     "metadata": {},
     "output_type": "execute_result"
    }
   ],
   "source": [
    "pred_train"
   ]
  },
  {
   "cell_type": "code",
   "execution_count": 91,
   "id": "77ae2366-4d29-462e-bafa-7ac97c9bd4eb",
   "metadata": {},
   "outputs": [
    {
     "data": {
      "text/plain": [
       "array([ 0.7086768 , -0.23304777, -0.20822646,  0.11395199,  1.24120716,\n",
       "       -0.7086768 ,  1.50379923,  1.18319752, -0.11028765, -0.03662805,\n",
       "        0.19601818,  0.07803259, -0.00200932, -0.20187893, -0.43030697,\n",
       "       -0.09287471,  0.00347571])"
      ]
     },
     "execution_count": 91,
     "metadata": {},
     "output_type": "execute_result"
    }
   ],
   "source": [
    "model.coef_"
   ]
  },
  {
   "cell_type": "code",
   "execution_count": 92,
   "id": "844f1f56-96d3-4c5c-ba80-839098802f1a",
   "metadata": {},
   "outputs": [
    {
     "data": {
      "text/plain": [
       "6.586707923309764"
      ]
     },
     "execution_count": 92,
     "metadata": {},
     "output_type": "execute_result"
    }
   ],
   "source": [
    "model.intercept_"
   ]
  },
  {
   "cell_type": "code",
   "execution_count": 93,
   "id": "02a2a6c6-08b0-4a9e-829d-437b5cf4c7ea",
   "metadata": {},
   "outputs": [],
   "source": [
    "pred_test = model.predict(x_test)"
   ]
  },
  {
   "cell_type": "code",
   "execution_count": 94,
   "id": "a5bbee0d-e104-488a-b13a-e0fa5c52ab3b",
   "metadata": {},
   "outputs": [
    {
     "data": {
      "text/plain": [
       "array([6.1991489 , 5.74733031, 6.86693006, ..., 3.18760594, 9.8529386 ,\n",
       "       4.34662333])"
      ]
     },
     "execution_count": 94,
     "metadata": {},
     "output_type": "execute_result"
    }
   ],
   "source": [
    "pred_test"
   ]
  },
  {
   "cell_type": "code",
   "execution_count": 95,
   "id": "e1f5b782-2fcb-4c60-98c7-9f1e5e60fdac",
   "metadata": {},
   "outputs": [],
   "source": [
    "from sklearn.metrics import mean_squared_error"
   ]
  },
  {
   "cell_type": "code",
   "execution_count": 96,
   "id": "f298d891-6903-4cf1-8e84-f745e46b1d3c",
   "metadata": {},
   "outputs": [
    {
     "data": {
      "text/plain": [
       "1.8360675074925843"
      ]
     },
     "execution_count": 96,
     "metadata": {},
     "output_type": "execute_result"
    }
   ],
   "source": [
    "train_mse = mean_squared_error(y_train, pred_train, squared=False)\n",
    "train_mse"
   ]
  },
  {
   "cell_type": "code",
   "execution_count": 97,
   "id": "d738cbaa-deaa-442d-93df-3b38e126dbb7",
   "metadata": {},
   "outputs": [
    {
     "data": {
      "text/plain": [
       "1.840268665386834"
      ]
     },
     "execution_count": 97,
     "metadata": {},
     "output_type": "execute_result"
    }
   ],
   "source": [
    "test_mse = mean_squared_error(y_test, pred_test, squared=False)\n",
    "test_mse"
   ]
  },
  {
   "cell_type": "markdown",
   "id": "06680035-0b09-4df8-865d-6c55fd095aef",
   "metadata": {},
   "source": [
    "# R2 Score --\n",
    "\n",
    "Linear Regression by default calculates R2 score using .score() method"
   ]
  },
  {
   "cell_type": "code",
   "execution_count": 98,
   "id": "66bc8dd5-86e9-4820-88ad-1c8f82f436e1",
   "metadata": {},
   "outputs": [
    {
     "data": {
      "text/plain": [
       "0.8564559762707435"
      ]
     },
     "execution_count": 98,
     "metadata": {},
     "output_type": "execute_result"
    }
   ],
   "source": [
    "train_r2 = model.score(x_train, y_train)\n",
    "train_r2"
   ]
  },
  {
   "cell_type": "code",
   "execution_count": 99,
   "id": "b3b9edf4-be3c-496e-8544-00a7a717d711",
   "metadata": {},
   "outputs": [
    {
     "data": {
      "text/plain": [
       "0.8560598088397423"
      ]
     },
     "execution_count": 99,
     "metadata": {},
     "output_type": "execute_result"
    }
   ],
   "source": [
    "test_r2 = model.score(x_test, y_test)\n",
    "test_r2"
   ]
  },
  {
   "cell_type": "markdown",
   "id": "a6bcd0ca-70d1-478f-a634-95d37266b5f0",
   "metadata": {},
   "source": [
    "# Adjusted R2 Score -"
   ]
  },
  {
   "cell_type": "code",
   "execution_count": 100,
   "id": "20eea1a4-9cab-461a-9eca-05703b2e5d08",
   "metadata": {},
   "outputs": [],
   "source": [
    "def adjusted_r2(r2,m,d):\n",
    "    return (1 - (((1-r2)*(m-1))/(m-d-1)))"
   ]
  },
  {
   "cell_type": "code",
   "execution_count": 101,
   "id": "38b4995d-cf2d-4e50-9148-c24b71e677e7",
   "metadata": {},
   "outputs": [
    {
     "data": {
      "text/plain": [
       "(14865, 17)"
      ]
     },
     "execution_count": 101,
     "metadata": {},
     "output_type": "execute_result"
    }
   ],
   "source": [
    "m1 = x_train.shape[0]\n",
    "d1 = x_train.shape[1]\n",
    "\n",
    "m1,d1"
   ]
  },
  {
   "cell_type": "code",
   "execution_count": 102,
   "id": "8575c603-eff8-4266-9da3-47b98c7dacae",
   "metadata": {},
   "outputs": [
    {
     "data": {
      "text/plain": [
       "0.8562916165749533"
      ]
     },
     "execution_count": 102,
     "metadata": {},
     "output_type": "execute_result"
    }
   ],
   "source": [
    "train_adj = adjusted_r2(train_r2, m1, d1)\n",
    "train_adj"
   ]
  },
  {
   "cell_type": "code",
   "execution_count": 103,
   "id": "474af55d-d1e4-48b3-8fe6-4b09fdaf165c",
   "metadata": {},
   "outputs": [
    {
     "data": {
      "text/plain": [
       "(4955, 17)"
      ]
     },
     "execution_count": 103,
     "metadata": {},
     "output_type": "execute_result"
    }
   ],
   "source": [
    "m2 = x_test.shape[0]\n",
    "d2 = x_test.shape[1]\n",
    "\n",
    "m2,d2"
   ]
  },
  {
   "cell_type": "code",
   "execution_count": 104,
   "id": "c80e27be-fd45-4496-a30b-11476cf973dd",
   "metadata": {},
   "outputs": [
    {
     "data": {
      "text/plain": [
       "0.8555641671039261"
      ]
     },
     "execution_count": 104,
     "metadata": {},
     "output_type": "execute_result"
    }
   ],
   "source": [
    "test_adj = adjusted_r2(test_r2, m2, d2)\n",
    "test_adj"
   ]
  },
  {
   "cell_type": "code",
   "execution_count": null,
   "id": "9a7b1a27-59d1-43e8-9eb5-144a96449687",
   "metadata": {},
   "outputs": [],
   "source": []
  }
 ],
 "metadata": {
  "kernelspec": {
   "display_name": "Python 3 (ipykernel)",
   "language": "python",
   "name": "python3"
  },
  "language_info": {
   "codemirror_mode": {
    "name": "ipython",
    "version": 3
   },
   "file_extension": ".py",
   "mimetype": "text/x-python",
   "name": "python",
   "nbconvert_exporter": "python",
   "pygments_lexer": "ipython3",
   "version": "3.11.5"
  }
 },
 "nbformat": 4,
 "nbformat_minor": 5
}
